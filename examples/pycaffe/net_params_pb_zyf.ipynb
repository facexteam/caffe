{
 "cells": [
  {
   "cell_type": "code",
   "execution_count": 5,
   "metadata": {},
   "outputs": [],
   "source": [
    "import _init_paths\n",
    "import caffe\n",
    "import caffe.proto.caffe_pb2 as cp\n",
    "import google.protobuf as pb\n",
    "import google.protobuf.text_format as pb_tf"
   ]
  },
  {
   "cell_type": "code",
   "execution_count": 6,
   "metadata": {},
   "outputs": [],
   "source": [
    "def get_netparameter(model_prototxt):\n",
    "    with open(model_prototxt) as f:\n",
    "        net = cp.NetParameter()\n",
    "        pb_tf.Parse(f.read(), net)\n",
    "        return net\n"
   ]
  },
  {
   "cell_type": "code",
   "execution_count": 7,
   "metadata": {},
   "outputs": [],
   "source": [
    "net = get_netparameter('./linreg-zyf.prototxt')\n"
   ]
  },
  {
   "cell_type": "code",
   "execution_count": 21,
   "metadata": {},
   "outputs": [
    {
     "name": "stdout",
     "output_type": "stream",
     "text": [
      "---> net.name:  LinearRegressionExample\n",
      "---> net.input:  []\n",
      "---> net.input_shape:  []\n",
      "---> net.layer: \n",
      "[name: \"x\"\n",
      "type: \"DummyData\"\n",
      "top: \"x\"\n",
      "dummy_data_param {\n",
      "  data_filler {\n",
      "    type: \"gaussian\"\n",
      "  }\n",
      "  shape {\n",
      "    dim: 10\n",
      "    dim: 3\n",
      "    dim: 2\n",
      "  }\n",
      "}\n",
      ", name: \"y\"\n",
      "type: \"DummyData\"\n",
      "top: \"y\"\n",
      "dummy_data_param {\n",
      "  data_filler {\n",
      "    type: \"gaussian\"\n",
      "  }\n",
      "  shape {\n",
      "    dim: 10\n",
      "    dim: 3\n",
      "    dim: 2\n",
      "  }\n",
      "}\n",
      ", name: \"ipx\"\n",
      "type: \"InnerProduct\"\n",
      "bottom: \"x\"\n",
      "top: \"ipx\"\n",
      "inner_product_param {\n",
      "  num_output: 10\n",
      "  weight_filler {\n",
      "    type: \"xavier\"\n",
      "  }\n",
      "}\n",
      ", name: \"ipy\"\n",
      "type: \"InnerProduct\"\n",
      "bottom: \"y\"\n",
      "top: \"ipy\"\n",
      "inner_product_param {\n",
      "  num_output: 10\n",
      "  weight_filler {\n",
      "    type: \"xavier\"\n",
      "  }\n",
      "}\n",
      "]\n"
     ]
    }
   ],
   "source": [
    "print '---> net.name: ', net.name\n",
    "print '---> net.input: ', net.input\n",
    "print '---> net.input_shape: ', net.input_shape\n",
    "print '---> net.layer: \\n', net.layer"
   ]
  },
  {
   "cell_type": "code",
   "execution_count": 14,
   "metadata": {},
   "outputs": [
    {
     "name": "stdout",
     "output_type": "stream",
     "text": [
      "<type 'google.protobuf.pyext._message.RepeatedCompositeContainer'>\n"
     ]
    }
   ],
   "source": [
    "print type(net.layer)"
   ]
  },
  {
   "cell_type": "code",
   "execution_count": 15,
   "metadata": {},
   "outputs": [
    {
     "name": "stdout",
     "output_type": "stream",
     "text": [
      "<type 'unicode'>\n"
     ]
    }
   ],
   "source": [
    "print type(net.name)"
   ]
  },
  {
   "cell_type": "code",
   "execution_count": 20,
   "metadata": {},
   "outputs": [
    {
     "name": "stdout",
     "output_type": "stream",
     "text": [
      " ---> layer %d 0\n",
      "     layer.name:  x\n",
      "     layer.type:  DummyData\n",
      "     layer.top:  [u'x']\n",
      "     layer.bottom:  []\n",
      "     layer.param:  []\n",
      "---> layer %d 1\n",
      "     layer.name:  y\n",
      "     layer.type:  DummyData\n",
      "     layer.top:  [u'y']\n",
      "     layer.bottom:  []\n",
      "     layer.param:  []\n",
      "---> layer %d 2\n",
      "     layer.name:  ipx\n",
      "     layer.type:  InnerProduct\n",
      "     layer.top:  [u'ipx']\n",
      "     layer.bottom:  [u'x']\n",
      "     layer.param:  []\n",
      "---> layer %d 3\n",
      "     layer.name:  ipy\n",
      "     layer.type:  InnerProduct\n",
      "     layer.top:  [u'ipy']\n",
      "     layer.bottom:  [u'y']\n",
      "     layer.param:  []\n"
     ]
    }
   ],
   "source": [
    "for i, layer in enumerate(net.layer):\n",
    "    print '---> layer %d', i\n",
    "    print '     layer.name: ', layer.name\n",
    "    print '     layer.type: ', layer.type\n",
    "    print '     layer.top: ', layer.top    \n",
    "    print '     layer.bottom: ', layer.bottom        \n",
    "    print '     layer.param: ', layer.param            "
   ]
  },
  {
   "cell_type": "code",
   "execution_count": null,
   "metadata": {},
   "outputs": [],
   "source": []
  }
 ],
 "metadata": {
  "kernelspec": {
   "display_name": "Python 2",
   "language": "python",
   "name": "python2"
  },
  "language_info": {
   "codemirror_mode": {
    "name": "ipython",
    "version": 2
   },
   "file_extension": ".py",
   "mimetype": "text/x-python",
   "name": "python",
   "nbconvert_exporter": "python",
   "pygments_lexer": "ipython2",
   "version": "2.7.12"
  }
 },
 "nbformat": 4,
 "nbformat_minor": 2
}
