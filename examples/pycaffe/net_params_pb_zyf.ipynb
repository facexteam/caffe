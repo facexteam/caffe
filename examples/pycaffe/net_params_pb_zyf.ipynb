{
 "cells": [
  {
   "cell_type": "code",
   "execution_count": 158,
   "metadata": {},
   "outputs": [],
   "source": [
    "import _init_paths\n",
    "import caffe\n",
    "import caffe.proto.caffe_pb2 as cp\n",
    "import google.protobuf as pb\n",
    "import google.protobuf.text_format as pb_tf\n",
    "from collections import OrderedDict\n",
    "import copy\n",
    "import numpy as np\n"
   ]
  },
  {
   "cell_type": "code",
   "execution_count": 159,
   "metadata": {},
   "outputs": [],
   "source": [
    "def get_net_parameter(model_prototxt):\n",
    "    with open(model_prototxt) as f:\n",
    "        net = cp.NetParameter()\n",
    "        pb_tf.Parse(f.read(), net)\n",
    "        return net\n"
   ]
  },
  {
   "cell_type": "code",
   "execution_count": 160,
   "metadata": {},
   "outputs": [],
   "source": [
    "net = get_net_parameter('./linreg-zyf.prototxt')\n"
   ]
  },
  {
   "cell_type": "code",
   "execution_count": 161,
   "metadata": {},
   "outputs": [
    {
     "name": "stdout",
     "output_type": "stream",
     "text": [
      "---> net.name:  LinearRegressionExample\n",
      "---> net.input:  []\n",
      "---> net.input_shape:  []\n",
      "---> net.layer: \n",
      "[name: \"x\"\n",
      "type: \"DummyData\"\n",
      "top: \"x\"\n",
      "dummy_data_param {\n",
      "  data_filler {\n",
      "    type: \"gaussian\"\n",
      "  }\n",
      "  shape {\n",
      "    dim: 10\n",
      "    dim: 3\n",
      "    dim: 2\n",
      "  }\n",
      "}\n",
      ", name: \"y\"\n",
      "type: \"DummyData\"\n",
      "top: \"y\"\n",
      "dummy_data_param {\n",
      "  data_filler {\n",
      "    type: \"gaussian\"\n",
      "  }\n",
      "  shape {\n",
      "    dim: 10\n",
      "    dim: 3\n",
      "    dim: 2\n",
      "  }\n",
      "}\n",
      ", name: \"ipx\"\n",
      "type: \"InnerProduct\"\n",
      "bottom: \"x\"\n",
      "top: \"ipx\"\n",
      "inner_product_param {\n",
      "  num_output: 10\n",
      "  weight_filler {\n",
      "    type: \"xavier\"\n",
      "  }\n",
      "}\n",
      ", name: \"ipy\"\n",
      "type: \"InnerProduct\"\n",
      "bottom: \"y\"\n",
      "top: \"ipy\"\n",
      "inner_product_param {\n",
      "  num_output: 10\n",
      "  weight_filler {\n",
      "    type: \"xavier\"\n",
      "  }\n",
      "}\n",
      "]\n"
     ]
    }
   ],
   "source": [
    "print '---> net.name: ', net.name\n",
    "print '---> net.input: ', net.input\n",
    "print '---> net.input_shape: ', net.input_shape\n",
    "print '---> net.layer: \\n', net.layer"
   ]
  },
  {
   "cell_type": "code",
   "execution_count": 162,
   "metadata": {},
   "outputs": [
    {
     "name": "stdout",
     "output_type": "stream",
     "text": [
      "<type 'google.protobuf.pyext._message.RepeatedCompositeContainer'>\n"
     ]
    }
   ],
   "source": [
    "print type(net.layer)"
   ]
  },
  {
   "cell_type": "code",
   "execution_count": 163,
   "metadata": {},
   "outputs": [
    {
     "name": "stdout",
     "output_type": "stream",
     "text": [
      "<type 'unicode'>\n"
     ]
    }
   ],
   "source": [
    "print type(net.name)"
   ]
  },
  {
   "cell_type": "code",
   "execution_count": 165,
   "metadata": {},
   "outputs": [
    {
     "name": "stdout",
     "output_type": "stream",
     "text": [
      "---> layer %d 0\n",
      "     layer.name:  x\n",
      "     layer.type:  DummyData\n",
      "     layer.top:  [u'x']\n",
      "     layer.bottom:  []\n",
      "     layer.param:  []\n",
      "     layer.data_param:  \n",
      "     layer.convolution_param:  \n",
      "     layer.inner_product_param:  \n",
      "     layer.batch_norm_param:  \n",
      "     layer.prelu_param:  \n",
      "     layer.data_param:  \n",
      "---> layer %d 1\n",
      "     layer.name:  y\n",
      "     layer.type:  DummyData\n",
      "     layer.top:  [u'y']\n",
      "     layer.bottom:  []\n",
      "     layer.param:  []\n",
      "     layer.data_param:  \n",
      "     layer.convolution_param:  \n",
      "     layer.inner_product_param:  \n",
      "     layer.batch_norm_param:  \n",
      "     layer.prelu_param:  \n",
      "     layer.data_param:  \n",
      "---> layer %d 2\n",
      "     layer.name:  ipx\n",
      "     layer.type:  InnerProduct\n",
      "     layer.top:  [u'ipx']\n",
      "     layer.bottom:  [u'x']\n",
      "     layer.param:  []\n",
      "     layer.data_param:  \n",
      "     layer.convolution_param:  \n",
      "     layer.inner_product_param:  num_output: 10\n",
      "weight_filler {\n",
      "  type: \"xavier\"\n",
      "}\n",
      "\n",
      "     layer.batch_norm_param:  \n",
      "     layer.prelu_param:  \n",
      "     layer.data_param:  \n",
      "---> layer %d 3\n",
      "     layer.name:  ipy\n",
      "     layer.type:  InnerProduct\n",
      "     layer.top:  [u'ipy']\n",
      "     layer.bottom:  [u'y']\n",
      "     layer.param:  []\n",
      "     layer.data_param:  \n",
      "     layer.convolution_param:  \n",
      "     layer.inner_product_param:  num_output: 10\n",
      "weight_filler {\n",
      "  type: \"xavier\"\n",
      "}\n",
      "\n",
      "     layer.batch_norm_param:  \n",
      "     layer.prelu_param:  \n",
      "     layer.data_param:  \n"
     ]
    }
   ],
   "source": [
    "for i, layer in enumerate(net.layer):\n",
    "    print '---> layer %d', i\n",
    "    print '     layer.name: ', layer.name\n",
    "    print '     layer.type: ', layer.type\n",
    "    print '     layer.top: ', layer.top    \n",
    "    print '     layer.bottom: ', layer.bottom        \n",
    "    print '     layer.param: ', layer.param            \n",
    "    print '     layer.data_param: ', layer.data_param\n",
    "    print '     layer.convolution_param: ', layer.convolution_param\n",
    "    print '     layer.inner_product_param: ', layer.inner_product_param\n",
    "    print '     layer.batch_norm_param: ', layer.batch_norm_param\n",
    "    print '     layer.prelu_param: ', layer.prelu_param\n",
    "    print '     layer.data_param: ', layer.data_param"
   ]
  },
  {
   "cell_type": "code",
   "execution_count": null,
   "metadata": {},
   "outputs": [],
   "source": []
  }
 ],
 "metadata": {
  "kernelspec": {
   "display_name": "Python 2",
   "language": "python",
   "name": "python2"
  },
  "language_info": {
   "codemirror_mode": {
    "name": "ipython",
    "version": 2
   },
   "file_extension": ".py",
   "mimetype": "text/x-python",
   "name": "python",
   "nbconvert_exporter": "python",
   "pygments_lexer": "ipython2",
   "version": "2.7.12"
  }
 },
 "nbformat": 4,
 "nbformat_minor": 2
}
