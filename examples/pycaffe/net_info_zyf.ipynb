{
 "cells": [
  {
   "cell_type": "code",
   "execution_count": 24,
   "metadata": {},
   "outputs": [],
   "source": [
    "import _init_paths\n",
    "import caffe\n",
    "import numpy as np\n",
    "\n",
    "caffe.set_mode_cpu()"
   ]
  },
  {
   "cell_type": "code",
   "execution_count": 2,
   "metadata": {},
   "outputs": [],
   "source": [
    "net = caffe.Net('./linreg-zyf.prototxt', caffe.TEST)"
   ]
  },
  {
   "cell_type": "code",
   "execution_count": 15,
   "metadata": {},
   "outputs": [
    {
     "name": "stdout",
     "output_type": "stream",
     "text": [
      "--->net\n",
      "<caffe._caffe.Net object at 0x7f725d4a8e10>\n"
     ]
    }
   ],
   "source": [
    "print '--->net\\n', net"
   ]
  },
  {
   "cell_type": "code",
   "execution_count": 16,
   "metadata": {},
   "outputs": [
    {
     "name": "stdout",
     "output_type": "stream",
     "text": [
      "--->net.layer_dict\n",
      "OrderedDict([('x', <caffe._caffe.Layer object at 0x7f70618b8b90>), ('y', <caffe._caffe.Layer object at 0x7f70618b8230>), ('ipx', <caffe._caffe.Layer object at 0x7f70618b8de8>), ('ipy', <caffe._caffe.Layer object at 0x7f70618b8d70>)])\n",
      "--->net.layers\n",
      "<caffe._caffe.LayerVec object at 0x7f7060d10a60>\n"
     ]
    }
   ],
   "source": [
    "print '--->net.layer_dict\\n', net.layer_dict\n",
    "print '--->net.layers\\n', net.layers"
   ]
  },
  {
   "cell_type": "code",
   "execution_count": 26,
   "metadata": {},
   "outputs": [
    {
     "name": "stdout",
     "output_type": "stream",
     "text": [
      "--->net.inputs\n",
      "[]\n",
      "--->net.blobs\n",
      "OrderedDict([('x', <caffe._caffe.Blob object at 0x7f70618b8e60>), ('y', <caffe._caffe.Blob object at 0x7f70618b8b18>), ('ipx', <caffe._caffe.Blob object at 0x7f70618b8c80>), ('ipy', <caffe._caffe.Blob object at 0x7f70618b8f50>)])\n",
      "--->net.params\n",
      "OrderedDict([('ipx', <caffe._caffe.BlobVec object at 0x7f7060d8d6e0>), ('ipy', <caffe._caffe.BlobVec object at 0x7f7060d8d210>)])\n"
     ]
    }
   ],
   "source": [
    "print '--->net.inputs\\n', net.inputs\n",
    "print '--->net.blobs\\n', net.blobs\n",
    "print '--->net.params\\n', net.params"
   ]
  },
  {
   "cell_type": "code",
   "execution_count": 18,
   "metadata": {},
   "outputs": [
    {
     "name": "stdout",
     "output_type": "stream",
     "text": [
      "--->net.bottom_names\n",
      "OrderedDict([('x', []), ('y', []), ('ipx', ['x']), ('ipy', ['y'])])\n",
      "--->net.top_names\n",
      "OrderedDict([('x', ['x']), ('y', ['y']), ('ipx', ['ipx']), ('ipy', ['ipy'])])\n"
     ]
    }
   ],
   "source": [
    "print '--->net.bottom_names\\n', net.bottom_names\n",
    "print '--->net.top_names\\n', net.top_names"
   ]
  },
  {
   "cell_type": "code",
   "execution_count": 30,
   "metadata": {},
   "outputs": [
    {
     "name": "stdout",
     "output_type": "stream",
     "text": [
      "--->layer\n",
      "<caffe._caffe.Layer object at 0x7f70618b8cf8>\n",
      "     layer.type:  DummyData\n",
      "     layer.blobs:  <caffe._caffe.BlobVec object at 0x7f7060d8d750>\n",
      "--->layer\n",
      "<caffe._caffe.Layer object at 0x7f7060590ed8>\n",
      "     layer.type:  DummyData\n",
      "     layer.blobs:  <caffe._caffe.BlobVec object at 0x7f7060d8d750>\n",
      "--->layer\n",
      "<caffe._caffe.Layer object at 0x7f7060590578>\n",
      "     layer.type:  InnerProduct\n",
      "     layer.blobs:  <caffe._caffe.BlobVec object at 0x7f7060d8d750>\n",
      "       blob:  <caffe._caffe.Blob object at 0x7f70618b8ed8>\n",
      "       blob.shape:  <caffe._caffe.IntVec object at 0x7f70618ba5d0>\n",
      "       blob.shape:  [10  6]\n",
      "       blob:  <caffe._caffe.Blob object at 0x7f7060590ed8>\n",
      "       blob.shape:  <caffe._caffe.IntVec object at 0x7f70618ba5d0>\n",
      "       blob.shape:  [10]\n",
      "--->layer\n",
      "<caffe._caffe.Layer object at 0x7f70605908c0>\n",
      "     layer.type:  InnerProduct\n",
      "     layer.blobs:  <caffe._caffe.BlobVec object at 0x7f7060d8d750>\n",
      "       blob:  <caffe._caffe.Blob object at 0x7f7060590230>\n",
      "       blob.shape:  <caffe._caffe.IntVec object at 0x7f70618ba5d0>\n",
      "       blob.shape:  [10  6]\n",
      "       blob:  <caffe._caffe.Blob object at 0x7f70618b8ed8>\n",
      "       blob.shape:  <caffe._caffe.IntVec object at 0x7f70618ba5d0>\n",
      "       blob.shape:  [10]\n"
     ]
    }
   ],
   "source": [
    "for layer in net.layers:\n",
    "    print '--->layer\\n', layer\n",
    "    print '     layer.type: ', layer.type\n",
    "    print '     layer.blobs: ', layer.blobs\n",
    "    \n",
    "    for blob in layer.blobs:\n",
    "        print '       blob: ', blob\n",
    "        print '       blob.shape: ', blob.shape\n",
    "        print '       blob.shape: ', np.array(blob.shape)"
   ]
  },
  {
   "cell_type": "code",
   "execution_count": 35,
   "metadata": {},
   "outputs": [
    {
     "name": "stdout",
     "output_type": "stream",
     "text": [
      "--->blob name:  x\n",
      "       blob:  <caffe._caffe.Blob object at 0x7f70618b8e60>\n",
      "       blob.shape:  <caffe._caffe.IntVec object at 0x7f7058393cd0>\n",
      "       blob.shape:  [10  3  2]\n",
      "--->blob name:  y\n",
      "       blob:  <caffe._caffe.Blob object at 0x7f70618b8b18>\n",
      "       blob.shape:  <caffe._caffe.IntVec object at 0x7f7058393cd0>\n",
      "       blob.shape:  [10  3  2]\n",
      "--->blob name:  ipx\n",
      "       blob:  <caffe._caffe.Blob object at 0x7f70618b8c80>\n",
      "       blob.shape:  <caffe._caffe.IntVec object at 0x7f7058393cd0>\n",
      "       blob.shape:  [10 10]\n",
      "--->blob name:  ipy\n",
      "       blob:  <caffe._caffe.Blob object at 0x7f70618b8f50>\n",
      "       blob.shape:  <caffe._caffe.IntVec object at 0x7f7058393cd0>\n",
      "       blob.shape:  [10 10]\n"
     ]
    }
   ],
   "source": [
    "for name,blob in net.blobs.iteritems():\n",
    "        print '--->blob name: ', name\n",
    "        print '       blob: ', blob\n",
    "        print '       blob.shape: ', blob.shape\n",
    "        print '       blob.shape: ', np.array(blob.shape)"
   ]
  },
  {
   "cell_type": "code",
   "execution_count": null,
   "metadata": {},
   "outputs": [],
   "source": [
    "net.copy_from"
   ]
  }
 ],
 "metadata": {
  "kernelspec": {
   "display_name": "Python 2",
   "language": "python",
   "name": "python2"
  },
  "language_info": {
   "codemirror_mode": {
    "name": "ipython",
    "version": 2
   },
   "file_extension": ".py",
   "mimetype": "text/x-python",
   "name": "python",
   "nbconvert_exporter": "python",
   "pygments_lexer": "ipython2",
   "version": "2.7.12"
  }
 },
 "nbformat": 4,
 "nbformat_minor": 2
}
